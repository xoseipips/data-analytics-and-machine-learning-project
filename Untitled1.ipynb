{
 "cells": [
  {
   "cell_type": "code",
   "execution_count": 1,
   "id": "a47678e0",
   "metadata": {},
   "outputs": [],
   "source": [
    "%matplotlib inline\n",
    "\n",
    "import pandas as pd\n",
    "import numpy as np\n",
    "import matplotlib.pyplot as plt\n",
    "import seaborn as sns"
   ]
  },
  {
   "cell_type": "code",
   "execution_count": 2,
   "id": "45a23253",
   "metadata": {},
   "outputs": [
    {
     "name": "stdout",
     "output_type": "stream",
     "text": [
      "['70 Lydia isle', 'Lake Conor', 'S71 7XZ', '89', '0', 'N/A', '08/18', '11/27', '676373692463', '875', '3', 'Kieran', 'GB62PQKB71416034141571', 'Wilson', 'married or civil partner', '7257', 'True', '72838', 'Male', 'Hyundai', 'Bonneville', '2009', 'Pickup']\n",
      "['00 Wheeler wells', 'Chapmanton', 'L2 7BT', '46', '13.72', 'Begum-Williams', '08/12', '11/26', '4529436854129855', '583', '1', 'Jonathan', 'GB37UMCO54540228728019', 'Thomas', 'married or civil partner', '0', 'False', '54016', 'Male', 'Nissan', 'ATS', '1996', 'Coupe']\n",
      "['Studio 33K Joel walk', 'Randallborough', 'ME3N 1GH', '22', '16.02', 'Hill-Wright', '11/19', '07/27', '4091726363083888495', '422', '1', 'Antony', 'GB40CVUE84011545859591', 'Jones', 'married or civil partner', '0', 'False', '68049', 'Male', 'GMC', 'Achieva', '2015', 'Convertible, Coupe']\n",
      "['Studio 46S Bethany lights', 'East Reece', 'E10 9RJ', '56', '19.35', 'Green LLC', '10/17', '04/18', '4671332769487632633', '669', '2', 'Henry', 'GB40YPKK71613332239280', 'Shaw', 'married or civil partner', '0', 'False', '91337', 'Male', 'Scion', 'F150 SuperCrew Cab', '1994', 'Pickup']\n",
      "['Flat 3 Christine views', 'Fletcherstad', 'WS2 9SN', '57', '5.94', 'Hill, Evans and Harrison', '04/19', '11/27', '2245094149128526', '659', '2', 'Jodie', 'GB95WAYW31715898077181', \"O'Brien\", 'married or civil partner', '0', 'False', '18446', 'Female', 'Buick', 'Outback', '2020', 'SUV']\n",
      "['Studio 43M Emily rapid', 'West Derekborough', 'W1J 0DL', '23', '10.73', 'Gill and Sons', '03/15', '05/15', '4485214746578045493', '123', '3', 'Ryan', 'GB29SSDY05529526374313', 'Clarke', 'married or civil partner', '0', 'False', '38100', 'Male', 'Lexus', 'Paceman', '2004', 'Van/Minivan']\n"
     ]
    }
   ],
   "source": [
    "#import csv file and specify the file path\n",
    "import csv\n",
    "\n",
    "csv_file_path = 'C:\\\\Users/DELL/Desktop/ACW data assignment_files/acw_user_data.csv'\n",
    "\n",
    "#create an empty list to store the data \n",
    "dataset = []\n",
    "\n",
    "with open(csv_file_path, mode = \"r\") as csv_file:\n",
    "    csv_reader = csv.reader(csv_file)\n",
    "    \n",
    "    # skip the header row if it exists\n",
    "    header = next(csv_reader, None)\n",
    "    \n",
    "    for row in csv_reader:\n",
    "        dataset.append(row)\n",
    "        \n",
    "#print the first few rows of dataset \n",
    "\n",
    "for i in range(min(6, len(dataset))):\n",
    "    print(dataset[i])\n"
   ]
  },
  {
   "cell_type": "code",
   "execution_count": 16,
   "id": "c8f23bee",
   "metadata": {},
   "outputs": [
    {
     "data": {
      "text/plain": [
       "<_csv.reader at 0x1587b0c3d00>"
      ]
     },
     "execution_count": 16,
     "metadata": {},
     "output_type": "execute_result"
    }
   ],
   "source": [
    "csv_reader"
   ]
  },
  {
   "cell_type": "code",
   "execution_count": null,
   "id": "b36093b6",
   "metadata": {},
   "outputs": [],
   "source": [
    "## coverting flat structures to nested structures\n",
    "## assuming your dataset.csv is your csv file name.\n",
    "\n"
   ]
  }
 ],
 "metadata": {
  "kernelspec": {
   "display_name": "Python 3",
   "language": "python",
   "name": "python3"
  },
  "language_info": {
   "codemirror_mode": {
    "name": "ipython",
    "version": 3
   },
   "file_extension": ".py",
   "mimetype": "text/x-python",
   "name": "python",
   "nbconvert_exporter": "python",
   "pygments_lexer": "ipython3",
   "version": "3.8.8"
  }
 },
 "nbformat": 4,
 "nbformat_minor": 5
}
