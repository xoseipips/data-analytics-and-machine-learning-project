{
 "cells": [
  {
   "cell_type": "markdown",
   "id": "31d6df43",
   "metadata": {},
   "source": [
    "### TASK 1:  IMPORTING ALL THE NECESSARY LIBRARIES AND READING THE CSV FILE"
   ]
  },
  {
   "cell_type": "code",
   "execution_count": 1,
   "id": "365f38a4",
   "metadata": {},
   "outputs": [],
   "source": [
    "%matplotlib inline\n",
    "\n",
    "import pandas as pd\n",
    "import numpy as np\n",
    "import matplotlib.pyplot as plt\n",
    "import os"
   ]
  },
  {
   "cell_type": "code",
   "execution_count": 2,
   "id": "87c35f87",
   "metadata": {},
   "outputs": [],
   "source": [
    "###### 1. READ CSV FILE  ######"
   ]
  },
  {
   "cell_type": "code",
   "execution_count": 22,
   "id": "97edc964",
   "metadata": {},
   "outputs": [
    {
     "data": {
      "text/plain": [
       "Int64Index([  0,   1,   2,   3,   4,   5,   6,   7,   8,   9,\n",
       "            ...\n",
       "            990, 991, 992, 993, 994, 995, 996, 997, 998, 999],\n",
       "           dtype='int64', length=1000)"
      ]
     },
     "execution_count": 22,
     "metadata": {},
     "output_type": "execute_result"
    }
   ],
   "source": [
    "filePath = \"C:\\\\Users/DELL/Desktop/ACW data assignment_files/acw_user_data.csv\" \n",
    "dataset = pd.read_csv(filePath)\n",
    "\n",
    "dataset.head(7)\n",
    "dataset.index.astype(int)"
   ]
  },
  {
   "cell_type": "code",
   "execution_count": 23,
   "id": "910d5f81",
   "metadata": {},
   "outputs": [
    {
     "ename": "KeyError",
     "evalue": "'Vehicle Name'",
     "output_type": "error",
     "traceback": [
      "\u001b[1;31m---------------------------------------------------------------------------\u001b[0m",
      "\u001b[1;31mKeyError\u001b[0m                                  Traceback (most recent call last)",
      "\u001b[1;32m<ipython-input-23-9afd9a0395f7>\u001b[0m in \u001b[0;36m<module>\u001b[1;34m\u001b[0m\n\u001b[0;32m      3\u001b[0m \u001b[0minfinite_indices\u001b[0m \u001b[1;33m=\u001b[0m \u001b[0mcount\u001b[0m\u001b[1;33m(\u001b[0m\u001b[1;33m)\u001b[0m\u001b[1;33m\u001b[0m\u001b[1;33m\u001b[0m\u001b[0m\n\u001b[0;32m      4\u001b[0m \u001b[1;33m\u001b[0m\u001b[0m\n\u001b[1;32m----> 5\u001b[1;33m \u001b[0mdf\u001b[0m \u001b[1;33m=\u001b[0m \u001b[0mpd\u001b[0m\u001b[1;33m.\u001b[0m\u001b[0mDataFrame\u001b[0m\u001b[1;33m(\u001b[0m\u001b[0mdataset\u001b[0m\u001b[1;33m,\u001b[0m \u001b[0mindex\u001b[0m \u001b[1;33m=\u001b[0m\u001b[1;33m[\u001b[0m\u001b[0mnext\u001b[0m\u001b[1;33m(\u001b[0m\u001b[0minfinite_indices\u001b[0m\u001b[1;33m)\u001b[0m \u001b[1;32mfor\u001b[0m \u001b[0m_\u001b[0m \u001b[1;32min\u001b[0m \u001b[0mrange\u001b[0m\u001b[1;33m(\u001b[0m\u001b[0mlen\u001b[0m\u001b[1;33m(\u001b[0m\u001b[0mdata\u001b[0m\u001b[1;33m[\u001b[0m\u001b[1;34m'Vehicle Name'\u001b[0m\u001b[1;33m]\u001b[0m\u001b[1;33m)\u001b[0m\u001b[1;33m)\u001b[0m\u001b[1;33m]\u001b[0m\u001b[1;33m)\u001b[0m\u001b[1;33m\u001b[0m\u001b[1;33m\u001b[0m\u001b[0m\n\u001b[0m",
      "\u001b[1;31mKeyError\u001b[0m: 'Vehicle Name'"
     ]
    }
   ],
   "source": [
    "from itertools import count\n",
    "\n",
    "infinite_indices = count()\n",
    "\n",
    "df = pd.DataFrame(dataset, index =[next(infinite_indices) for _ in range(len(data['Vehicle Name']))])"
   ]
  },
  {
   "cell_type": "markdown",
   "id": "271797ca",
   "metadata": {},
   "source": [
    "## TASK 2: converting flat structures to nested structures"
   ]
  },
  {
   "cell_type": "markdown",
   "id": "7b8b8be9",
   "metadata": {},
   "source": [
    "using the following mapping\n",
    "a. Vehicle - make, model, year, and type\n",
    "b. Credit Card - start date, end date, number, security code, and IBAN\n",
    "c. Address - main address, city, and postcode."
   ]
  },
  {
   "cell_type": "code",
   "execution_count": 18,
   "id": "c5d332e4",
   "metadata": {
    "scrolled": true
   },
   "outputs": [
    {
     "name": "stdout",
     "output_type": "stream",
     "text": [
      "<class 'pandas.core.frame.DataFrame'>\n",
      "Int64Index: 1000 entries, 0 to 999\n",
      "Data columns (total 23 columns):\n",
      " #   Column                          Non-Null Count  Dtype  \n",
      "---  ------                          --------------  -----  \n",
      " 0   Address Street                  1000 non-null   object \n",
      " 1   Address City                    1000 non-null   object \n",
      " 2   Address Postcode                1000 non-null   object \n",
      " 3   Age (Years)                     1000 non-null   int64  \n",
      " 4   Distance Commuted to Work (Km)  1000 non-null   float64\n",
      " 5   Employer Company                754 non-null    object \n",
      " 6   Credit Card Start Date          1000 non-null   object \n",
      " 7   Credit Card Expiry Date         1000 non-null   object \n",
      " 8   Credit Card Number              1000 non-null   int64  \n",
      " 9   Credit Card CVV                 1000 non-null   int64  \n",
      " 10  Dependants                      981 non-null    float64\n",
      " 11  First Name                      1000 non-null   object \n",
      " 12  Bank IBAN                       1000 non-null   object \n",
      " 13  Last Name                       1000 non-null   object \n",
      " 14  Marital Status                  1000 non-null   object \n",
      " 15  Yearly Pension (GBP)            1000 non-null   int64  \n",
      " 16  Retired                         1000 non-null   bool   \n",
      " 17  Yearly Salary (GBP)             1000 non-null   int64  \n",
      " 18  Sex                             1000 non-null   object \n",
      " 19  Vehicle Make                    1000 non-null   object \n",
      " 20  Vehicle Model                   1000 non-null   object \n",
      " 21  Vehicle Year                    1000 non-null   int64  \n",
      " 22  Vehicle Type                    1000 non-null   object \n",
      "dtypes: bool(1), float64(2), int64(6), object(14)\n",
      "memory usage: 180.7+ KB\n"
     ]
    }
   ],
   "source": [
    "# Create a new dataset with integer indices\n",
    "dataset.info()\n"
   ]
  },
  {
   "cell_type": "code",
   "execution_count": 21,
   "id": "75d3cf9c",
   "metadata": {
    "scrolled": true
   },
   "outputs": [
    {
     "ename": "TypeError",
     "evalue": "string indices must be integers",
     "output_type": "error",
     "traceback": [
      "\u001b[1;31m---------------------------------------------------------------------------\u001b[0m",
      "\u001b[1;31mTypeError\u001b[0m                                 Traceback (most recent call last)",
      "\u001b[1;32m<ipython-input-21-9651dcf85534>\u001b[0m in \u001b[0;36m<module>\u001b[1;34m\u001b[0m\n\u001b[0;32m      4\u001b[0m \u001b[1;32mfor\u001b[0m \u001b[0mrow\u001b[0m \u001b[1;32min\u001b[0m \u001b[0mdataset_conv\u001b[0m\u001b[1;33m:\u001b[0m\u001b[1;33m\u001b[0m\u001b[1;33m\u001b[0m\u001b[0m\n\u001b[0;32m      5\u001b[0m     vehicle = {\n\u001b[1;32m----> 6\u001b[1;33m         \u001b[1;34m'year'\u001b[0m\u001b[1;33m:\u001b[0m \u001b[0mint\u001b[0m\u001b[1;33m(\u001b[0m\u001b[0mrow\u001b[0m\u001b[1;33m[\u001b[0m\u001b[1;34m'Vehicle Year'\u001b[0m\u001b[1;33m]\u001b[0m\u001b[1;33m)\u001b[0m\u001b[1;33m,\u001b[0m\u001b[1;33m\u001b[0m\u001b[1;33m\u001b[0m\u001b[0m\n\u001b[0m\u001b[0;32m      7\u001b[0m         \u001b[1;34m'make'\u001b[0m\u001b[1;33m:\u001b[0m \u001b[0mrow\u001b[0m\u001b[1;33m[\u001b[0m\u001b[1;34m'Vehicle Make'\u001b[0m\u001b[1;33m]\u001b[0m\u001b[1;33m,\u001b[0m\u001b[1;33m\u001b[0m\u001b[1;33m\u001b[0m\u001b[0m\n\u001b[0;32m      8\u001b[0m         \u001b[1;34m'model'\u001b[0m\u001b[1;33m:\u001b[0m \u001b[0mrow\u001b[0m\u001b[1;33m[\u001b[0m\u001b[1;34m'Vehicle model'\u001b[0m\u001b[1;33m]\u001b[0m\u001b[1;33m,\u001b[0m\u001b[1;33m\u001b[0m\u001b[1;33m\u001b[0m\u001b[0m\n",
      "\u001b[1;31mTypeError\u001b[0m: string indices must be integers"
     ]
    }
   ],
   "source": [
    "dataset_conv = pd.DataFrame(dataset)\n",
    "dataset.index = dataset.index.astype(int)\n",
    "\n",
    "for row in dataset_conv:\n",
    "    vehicle = {\n",
    "        'year': int(row['Vehicle Year']),\n",
    "        'make': row['Vehicle Make'],\n",
    "        'model': row['Vehicle model'],\n",
    "        'type': row['Vehicle type']\n",
    "    }\n",
    "    row['vehicle'] = vehicle\n",
    "    \n",
    "    credit_card = {\n",
    "        'start_date': row['start_date'],\n",
    "        'end_date': row['end_date'],\n",
    "        'number': row['number'],\n",
    "        'security_code': row['security_code'],\n",
    "        'IBAN': row['IBAN']\n",
    "    }\n",
    "    row['credit_card'] = credit_card\n",
    "    \n",
    "    address = {\n",
    "        'main_address': row['main_address'],\n",
    "        'city': row['city'],\n",
    "        'postcode': row['postcode']\n",
    "    }\n",
    "    row['address'] = address\n",
    "\n",
    "    del row['make']\n",
    "    del row['model']\n",
    "    del row['year']\n",
    "    del row['type']\n",
    "    del row['start_date']\n",
    "    del row['end_date']\n",
    "    del row['number']\n",
    "    del row['security_code']\n",
    "    del row['IBAN']\n",
    "    del row['main_address']\n",
    "    del row['city']\n",
    "    del row['postcode']\n"
   ]
  },
  {
   "cell_type": "code",
   "execution_count": null,
   "id": "d0f0d39d",
   "metadata": {},
   "outputs": [],
   "source": [
    "\n"
   ]
  },
  {
   "cell_type": "code",
   "execution_count": null,
   "id": "790a98b5",
   "metadata": {},
   "outputs": [],
   "source": []
  }
 ],
 "metadata": {
  "kernelspec": {
   "display_name": "Python 3",
   "language": "python",
   "name": "python3"
  },
  "language_info": {
   "codemirror_mode": {
    "name": "ipython",
    "version": 3
   },
   "file_extension": ".py",
   "mimetype": "text/x-python",
   "name": "python",
   "nbconvert_exporter": "python",
   "pygments_lexer": "ipython3",
   "version": "3.8.8"
  }
 },
 "nbformat": 4,
 "nbformat_minor": 5
}
